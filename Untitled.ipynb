{
 "cells": [
  {
   "cell_type": "code",
   "execution_count": 2,
   "id": "e9521734-d82c-4a92-b0a3-580d34267707",
   "metadata": {},
   "outputs": [
    {
     "name": "stdout",
     "output_type": "stream",
     "text": [
      "[{'code': 'birzu-ams', 'name': 'Biržų AMS', 'coordinates': {'latitude': 56.193191, 'longitude': 24.774184}}, {'code': 'dotnuvos-ams', 'name': 'Dotnuvos AMS', 'coordinates': {'latitude': 55.395993, 'longitude': 23.866224}}, {'code': 'duksto-ams', 'name': 'Dūkšto AMS', 'coordinates': {'latitude': 55.517856, 'longitude': 26.31614}}, {'code': 'kauno-ams', 'name': 'Kauno AMS', 'coordinates': {'latitude': 54.88396, 'longitude': 23.83588}}, {'code': 'klaipedos-ams', 'name': 'Klaipėdos AMS', 'coordinates': {'latitude': 55.73135, 'longitude': 21.09157}}, {'code': 'kybartu-ams', 'name': 'Kybartų AMS', 'coordinates': {'latitude': 54.633167, 'longitude': 22.783011}}, {'code': 'laukuvos-ams', 'name': 'Laukuvos AMS', 'coordinates': {'latitude': 55.60886, 'longitude': 22.239463}}, {'code': 'lazdiju-ams', 'name': 'Lazdijų AMS', 'coordinates': {'latitude': 54.23221, 'longitude': 23.51068}}, {'code': 'nidos-ams', 'name': 'Nidos AMS', 'coordinates': {'latitude': 55.30221, 'longitude': 21.00736}}, {'code': 'panevezio-ams', 'name': 'Panevėžio AMS', 'coordinates': {'latitude': 55.735154, 'longitude': 24.417184}}, {'code': 'raseiniu-ams', 'name': 'Raseinių AMS', 'coordinates': {'latitude': 55.394569, 'longitude': 23.133073}}, {'code': 'siauliu-ams', 'name': 'Šiaulių AMS', 'coordinates': {'latitude': 55.942222, 'longitude': 23.331111}}, {'code': 'silutes-ams', 'name': 'Šilutės AMS', 'coordinates': {'latitude': 55.352222, 'longitude': 21.446944}}, {'code': 'telsiu-ams', 'name': 'Telšių AMS', 'coordinates': {'latitude': 55.991245, 'longitude': 22.256657}}, {'code': 'ukmerges-ams', 'name': 'Ukmergės AMS', 'coordinates': {'latitude': 55.264145, 'longitude': 24.760335}}, {'code': 'utenos-ams', 'name': 'Utenos AMS', 'coordinates': {'latitude': 55.515321, 'longitude': 25.589692}}, {'code': 'varenos-ams', 'name': 'Varėnos AMS', 'coordinates': {'latitude': 54.248271, 'longitude': 24.55176}}, {'code': 'vilniaus-ams', 'name': 'Vilniaus AMS', 'coordinates': {'latitude': 54.625992, 'longitude': 25.107064}}]\n"
     ]
    }
   ],
   "source": [
    "import requests\n",
    "\n",
    "url = \"https://api.meteo.lt/v1/stations\"\n",
    "response = requests.get(url)\n",
    "\n",
    "if response.status_code == 200:\n",
    "    data = response.json()\n",
    "    # Process the data as needed\n",
    "    print(data)\n",
    "else:\n",
    "    print(\"Error:\", response.status_code)\n"
   ]
  },
  {
   "cell_type": "code",
   "execution_count": 5,
   "id": "93137ba4-955f-4a86-89d5-39a29710a393",
   "metadata": {},
   "outputs": [
    {
     "name": "stdout",
     "output_type": "stream",
     "text": [
      "{'code': 'panevezio-ams', 'name': 'Panevėžio AMS', 'type': 'Automatinė meteorologijos stotis', 'coordinates': {'latitude': 55.735154, 'longitude': 24.417184}}\n"
     ]
    }
   ],
   "source": [
    "url=\"https://api.meteo.lt/v1/stations/panevezio-ams\"\n",
    "response = requests.get(url)\n",
    "data = response.json()\n",
    "print(data)"
   ]
  },
  {
   "cell_type": "code",
   "execution_count": 9,
   "id": "a5bb91a3-599d-4513-8433-06f5e7bd5e5b",
   "metadata": {},
   "outputs": [
    {
     "name": "stdout",
     "output_type": "stream",
     "text": [
      "{'station': {'code': 'panevezio-ams', 'name': 'Panevėžio AMS', 'coordinates': {'latitude': 55.735154, 'longitude': 24.417184}}, 'observations': [{'observationTimeUtc': '2023-07-01 12:00:00', 'airTemperature': 21.1, 'feelsLikeTemperature': 21.1, 'windSpeed': 4.8, 'windGust': 8, 'windDirection': 269, 'cloudCover': 63, 'seaLevelPressure': 1003, 'relativeHumidity': 45, 'precipitation': 0, 'conditionCode': 'cloudy-with-sunny-intervals'}, {'observationTimeUtc': '2023-07-01 13:00:00', 'airTemperature': 21.6, 'feelsLikeTemperature': 21.6, 'windSpeed': 4.7, 'windGust': 8.7, 'windDirection': 267, 'cloudCover': 75, 'seaLevelPressure': 1003, 'relativeHumidity': 43, 'precipitation': 0, 'conditionCode': 'cloudy-with-sunny-intervals'}, {'observationTimeUtc': '2023-07-01 14:00:00', 'airTemperature': 20.9, 'feelsLikeTemperature': 20.9, 'windSpeed': 4.4, 'windGust': 8.5, 'windDirection': 279, 'cloudCover': 88, 'seaLevelPressure': 1002.9, 'relativeHumidity': 44, 'precipitation': 0, 'conditionCode': 'cloudy'}, {'observationTimeUtc': '2023-07-01 15:00:00', 'airTemperature': 21.3, 'feelsLikeTemperature': 21.3, 'windSpeed': 4.3, 'windGust': 6.7, 'windDirection': 286, 'cloudCover': 63, 'seaLevelPressure': 1002.7, 'relativeHumidity': 47, 'precipitation': 0, 'conditionCode': 'cloudy-with-sunny-intervals'}, {'observationTimeUtc': '2023-07-01 16:00:00', 'airTemperature': 21.4, 'feelsLikeTemperature': 21.4, 'windSpeed': 4.8, 'windGust': 8.2, 'windDirection': 249, 'cloudCover': 50, 'seaLevelPressure': 1002.7, 'relativeHumidity': 46, 'precipitation': 0, 'conditionCode': 'variable-cloudiness'}, {'observationTimeUtc': '2023-07-01 17:00:00', 'airTemperature': 20.7, 'feelsLikeTemperature': 20.7, 'windSpeed': 3.8, 'windGust': 7.3, 'windDirection': 282, 'cloudCover': 25, 'seaLevelPressure': 1002.7, 'relativeHumidity': 48, 'precipitation': 0, 'conditionCode': 'partly-cloudy'}, {'observationTimeUtc': '2023-07-01 18:00:00', 'airTemperature': 19.5, 'feelsLikeTemperature': 19.5, 'windSpeed': 3.7, 'windGust': 6.8, 'windDirection': 248, 'cloudCover': 0, 'seaLevelPressure': 1002.6, 'relativeHumidity': 55, 'precipitation': 0, 'conditionCode': 'clear'}, {'observationTimeUtc': '2023-07-01 19:00:00', 'airTemperature': 18, 'feelsLikeTemperature': 18, 'windSpeed': 2.6, 'windGust': 4.6, 'windDirection': 241, 'cloudCover': 0, 'seaLevelPressure': 1002.6, 'relativeHumidity': 61, 'precipitation': 0, 'conditionCode': 'clear'}, {'observationTimeUtc': '2023-07-01 20:00:00', 'airTemperature': 16, 'feelsLikeTemperature': 16, 'windSpeed': 1.9, 'windGust': 3.1, 'windDirection': 230, 'cloudCover': 13, 'seaLevelPressure': 1002.8, 'relativeHumidity': 69, 'precipitation': 0, 'conditionCode': 'partly-cloudy'}, {'observationTimeUtc': '2023-07-01 21:00:00', 'airTemperature': 16.3, 'feelsLikeTemperature': 16.3, 'windSpeed': 2.6, 'windGust': 4.2, 'windDirection': 233, 'cloudCover': 88, 'seaLevelPressure': 1002.7, 'relativeHumidity': 68, 'precipitation': 0, 'conditionCode': 'cloudy'}, {'observationTimeUtc': '2023-07-01 22:00:00', 'airTemperature': 15.8, 'feelsLikeTemperature': 15.8, 'windSpeed': 1.8, 'windGust': 3.2, 'windDirection': 235, 'cloudCover': 100, 'seaLevelPressure': 1002.6, 'relativeHumidity': 70, 'precipitation': 0, 'conditionCode': 'cloudy'}, {'observationTimeUtc': '2023-07-01 23:00:00', 'airTemperature': 14.8, 'feelsLikeTemperature': 14.8, 'windSpeed': 1.7, 'windGust': 2.8, 'windDirection': 204, 'cloudCover': 88, 'seaLevelPressure': 1002.5, 'relativeHumidity': 75, 'precipitation': 0, 'conditionCode': 'cloudy'}, {'observationTimeUtc': '2023-07-02 00:00:00', 'airTemperature': 14.1, 'feelsLikeTemperature': 14.1, 'windSpeed': 1.1, 'windGust': 1.9, 'windDirection': 181, 'cloudCover': 88, 'seaLevelPressure': 1002.1, 'relativeHumidity': 81, 'precipitation': 0, 'conditionCode': 'cloudy'}, {'observationTimeUtc': '2023-07-02 01:00:00', 'airTemperature': 14.4, 'feelsLikeTemperature': 14.4, 'windSpeed': 1.7, 'windGust': 2.8, 'windDirection': 184, 'cloudCover': 88, 'seaLevelPressure': 1001.8, 'relativeHumidity': 81, 'precipitation': 0.1, 'conditionCode': 'light-rain'}, {'observationTimeUtc': '2023-07-02 02:00:00', 'airTemperature': 14, 'feelsLikeTemperature': 14, 'windSpeed': 1.1, 'windGust': 1.7, 'windDirection': 160, 'cloudCover': 100, 'seaLevelPressure': 1001.2, 'relativeHumidity': 87, 'precipitation': 0.1, 'conditionCode': 'light-rain'}, {'observationTimeUtc': '2023-07-02 03:00:00', 'airTemperature': 14.3, 'feelsLikeTemperature': 14.3, 'windSpeed': 1.7, 'windGust': 3.1, 'windDirection': 170, 'cloudCover': 88, 'seaLevelPressure': 1000.8, 'relativeHumidity': 85, 'precipitation': 0, 'conditionCode': 'cloudy'}, {'observationTimeUtc': '2023-07-02 04:00:00', 'airTemperature': 14.9, 'feelsLikeTemperature': 14.9, 'windSpeed': 3.1, 'windGust': 5.6, 'windDirection': 190, 'cloudCover': 100, 'seaLevelPressure': 1000.8, 'relativeHumidity': 81, 'precipitation': 0, 'conditionCode': 'light-rain'}, {'observationTimeUtc': '2023-07-02 05:00:00', 'airTemperature': 15.5, 'feelsLikeTemperature': 15.5, 'windSpeed': 2.7, 'windGust': 5.1, 'windDirection': 162, 'cloudCover': 100, 'seaLevelPressure': 1000, 'relativeHumidity': 82, 'precipitation': 0, 'conditionCode': 'rain'}, {'observationTimeUtc': '2023-07-02 06:00:00', 'airTemperature': 16.1, 'feelsLikeTemperature': 16.1, 'windSpeed': 2.8, 'windGust': 4.4, 'windDirection': 158, 'cloudCover': 100, 'seaLevelPressure': 999.7, 'relativeHumidity': 79, 'precipitation': 0, 'conditionCode': 'cloudy'}, {'observationTimeUtc': '2023-07-02 07:00:00', 'airTemperature': 17.4, 'feelsLikeTemperature': 17.4, 'windSpeed': 3, 'windGust': 5.8, 'windDirection': 185, 'cloudCover': 100, 'seaLevelPressure': 999.1, 'relativeHumidity': 74, 'precipitation': 0, 'conditionCode': 'cloudy'}, {'observationTimeUtc': '2023-07-02 08:00:00', 'airTemperature': 18.1, 'feelsLikeTemperature': 18.1, 'windSpeed': 3.8, 'windGust': 6.7, 'windDirection': 204, 'cloudCover': 88, 'seaLevelPressure': 998.9, 'relativeHumidity': 71, 'precipitation': 0, 'conditionCode': 'cloudy'}, {'observationTimeUtc': '2023-07-02 09:00:00', 'airTemperature': 19.3, 'feelsLikeTemperature': 19.3, 'windSpeed': 5.2, 'windGust': 8.1, 'windDirection': 210, 'cloudCover': 88, 'seaLevelPressure': 998.7, 'relativeHumidity': 70, 'precipitation': 0, 'conditionCode': 'cloudy'}, {'observationTimeUtc': '2023-07-02 10:00:00', 'airTemperature': 18.9, 'feelsLikeTemperature': 18.9, 'windSpeed': 4.7, 'windGust': 8.1, 'windDirection': 186, 'cloudCover': 88, 'seaLevelPressure': 998.1, 'relativeHumidity': 74, 'precipitation': 0, 'conditionCode': 'light-rain'}, {'observationTimeUtc': '2023-07-02 11:00:00', 'airTemperature': 16.9, 'feelsLikeTemperature': 16.9, 'windSpeed': 3.8, 'windGust': 6.4, 'windDirection': 195, 'cloudCover': 88, 'seaLevelPressure': 997.7, 'relativeHumidity': 90, 'precipitation': 0.2, 'conditionCode': 'light-rain'}]}\n"
     ]
    }
   ],
   "source": [
    "url=\"https://api.meteo.lt/v1/stations/panevezio-ams/observations/latest\"\n",
    "response = requests.get(url)\n",
    "data = response.json()\n",
    "print(data)"
   ]
  },
  {
   "cell_type": "code",
   "execution_count": 14,
   "id": "e65580f4-e985-41c1-a6aa-c8e840f1f56d",
   "metadata": {},
   "outputs": [
    {
     "name": "stdout",
     "output_type": "stream",
     "text": [
      "{'place': {'code': 'panevezys', 'name': 'Panevėžys', 'administrativeDivision': 'Panevėžio miesto savivaldybė', 'country': 'Lietuva', 'countryCode': 'LT', 'coordinates': {'latitude': 55.734499, 'longitude': 24.357806}}, 'forecastType': 'long-term', 'forecastCreationTimeUtc': '2023-07-01 23:01:28', 'forecastTimestamps': [{'forecastTimeUtc': '2023-07-02 11:00:00', 'airTemperature': 18.2, 'feelsLikeTemperature': 18.2, 'windSpeed': 6, 'windGust': 10, 'windDirection': 211, 'cloudCover': 100, 'seaLevelPressure': 998, 'relativeHumidity': 84, 'totalPrecipitation': 0, 'conditionCode': 'cloudy'}, {'forecastTimeUtc': '2023-07-02 12:00:00', 'airTemperature': 17.5, 'feelsLikeTemperature': 17.5, 'windSpeed': 6, 'windGust': 11, 'windDirection': 210, 'cloudCover': 100, 'seaLevelPressure': 998, 'relativeHumidity': 88, 'totalPrecipitation': 0, 'conditionCode': 'cloudy'}, {'forecastTimeUtc': '2023-07-02 13:00:00', 'airTemperature': 17.2, 'feelsLikeTemperature': 17.2, 'windSpeed': 5, 'windGust': 10, 'windDirection': 215, 'cloudCover': 100, 'seaLevelPressure': 998, 'relativeHumidity': 92, 'totalPrecipitation': 0, 'conditionCode': 'cloudy'}, {'forecastTimeUtc': '2023-07-02 14:00:00', 'airTemperature': 17.6, 'feelsLikeTemperature': 17.6, 'windSpeed': 5, 'windGust': 10, 'windDirection': 244, 'cloudCover': 100, 'seaLevelPressure': 998, 'relativeHumidity': 87, 'totalPrecipitation': 0, 'conditionCode': 'cloudy'}, {'forecastTimeUtc': '2023-07-02 15:00:00', 'airTemperature': 17.4, 'feelsLikeTemperature': 17.4, 'windSpeed': 5, 'windGust': 10, 'windDirection': 262, 'cloudCover': 100, 'seaLevelPressure': 998, 'relativeHumidity': 80, 'totalPrecipitation': 0.1, 'conditionCode': 'light-rain'}, {'forecastTimeUtc': '2023-07-02 16:00:00', 'airTemperature': 17.7, 'feelsLikeTemperature': 17.7, 'windSpeed': 5, 'windGust': 9, 'windDirection': 236, 'cloudCover': 78, 'seaLevelPressure': 999, 'relativeHumidity': 84, 'totalPrecipitation': 0.1, 'conditionCode': 'light-rain'}, {'forecastTimeUtc': '2023-07-02 17:00:00', 'airTemperature': 17.2, 'feelsLikeTemperature': 17.2, 'windSpeed': 6, 'windGust': 11, 'windDirection': 249, 'cloudCover': 100, 'seaLevelPressure': 999, 'relativeHumidity': 81, 'totalPrecipitation': 0, 'conditionCode': 'cloudy'}, {'forecastTimeUtc': '2023-07-02 18:00:00', 'airTemperature': 16.6, 'feelsLikeTemperature': 16.6, 'windSpeed': 5, 'windGust': 11, 'windDirection': 259, 'cloudCover': 100, 'seaLevelPressure': 999, 'relativeHumidity': 81, 'totalPrecipitation': 0, 'conditionCode': 'cloudy'}, {'forecastTimeUtc': '2023-07-02 19:00:00', 'airTemperature': 15.9, 'feelsLikeTemperature': 15.9, 'windSpeed': 5, 'windGust': 10, 'windDirection': 247, 'cloudCover': 1, 'seaLevelPressure': 1000, 'relativeHumidity': 76, 'totalPrecipitation': 0, 'conditionCode': 'clear'}, {'forecastTimeUtc': '2023-07-02 20:00:00', 'airTemperature': 15.3, 'feelsLikeTemperature': 15.3, 'windSpeed': 4, 'windGust': 9, 'windDirection': 231, 'cloudCover': 0, 'seaLevelPressure': 1001, 'relativeHumidity': 79, 'totalPrecipitation': 0, 'conditionCode': 'clear'}, {'forecastTimeUtc': '2023-07-02 21:00:00', 'airTemperature': 14.9, 'feelsLikeTemperature': 14.9, 'windSpeed': 5, 'windGust': 9, 'windDirection': 225, 'cloudCover': 97, 'seaLevelPressure': 1001, 'relativeHumidity': 79, 'totalPrecipitation': 0, 'conditionCode': 'cloudy'}, {'forecastTimeUtc': '2023-07-02 22:00:00', 'airTemperature': 14.6, 'feelsLikeTemperature': 14.6, 'windSpeed': 6, 'windGust': 11, 'windDirection': 223, 'cloudCover': 83, 'seaLevelPressure': 1001, 'relativeHumidity': 79, 'totalPrecipitation': 0, 'conditionCode': 'cloudy'}, {'forecastTimeUtc': '2023-07-02 23:00:00', 'airTemperature': 14.6, 'feelsLikeTemperature': 14.6, 'windSpeed': 6, 'windGust': 12, 'windDirection': 228, 'cloudCover': 22, 'seaLevelPressure': 1001, 'relativeHumidity': 80, 'totalPrecipitation': 0, 'conditionCode': 'partly-cloudy'}, {'forecastTimeUtc': '2023-07-03 00:00:00', 'airTemperature': 14.2, 'feelsLikeTemperature': 14.2, 'windSpeed': 5, 'windGust': 11, 'windDirection': 223, 'cloudCover': 100, 'seaLevelPressure': 1001, 'relativeHumidity': 86, 'totalPrecipitation': 0.2, 'conditionCode': 'light-rain'}, {'forecastTimeUtc': '2023-07-03 01:00:00', 'airTemperature': 14, 'feelsLikeTemperature': 14, 'windSpeed': 6, 'windGust': 11, 'windDirection': 225, 'cloudCover': 100, 'seaLevelPressure': 1002, 'relativeHumidity': 83, 'totalPrecipitation': 0.2, 'conditionCode': 'light-rain'}, {'forecastTimeUtc': '2023-07-03 02:00:00', 'airTemperature': 13.6, 'feelsLikeTemperature': 13.6, 'windSpeed': 7, 'windGust': 12, 'windDirection': 221, 'cloudCover': 33, 'seaLevelPressure': 1002, 'relativeHumidity': 85, 'totalPrecipitation': 0, 'conditionCode': 'partly-cloudy'}, {'forecastTimeUtc': '2023-07-03 03:00:00', 'airTemperature': 13.8, 'feelsLikeTemperature': 13.8, 'windSpeed': 6, 'windGust': 12, 'windDirection': 226, 'cloudCover': 8, 'seaLevelPressure': 1002, 'relativeHumidity': 84, 'totalPrecipitation': 0, 'conditionCode': 'clear'}, {'forecastTimeUtc': '2023-07-03 04:00:00', 'airTemperature': 14.3, 'feelsLikeTemperature': 14.3, 'windSpeed': 7, 'windGust': 13, 'windDirection': 227, 'cloudCover': 100, 'seaLevelPressure': 1002, 'relativeHumidity': 81, 'totalPrecipitation': 0, 'conditionCode': 'cloudy'}, {'forecastTimeUtc': '2023-07-03 05:00:00', 'airTemperature': 14.6, 'feelsLikeTemperature': 14.6, 'windSpeed': 7, 'windGust': 12, 'windDirection': 224, 'cloudCover': 100, 'seaLevelPressure': 1002, 'relativeHumidity': 76, 'totalPrecipitation': 0, 'conditionCode': 'cloudy'}, {'forecastTimeUtc': '2023-07-03 06:00:00', 'airTemperature': 16, 'feelsLikeTemperature': 16, 'windSpeed': 8, 'windGust': 14, 'windDirection': 227, 'cloudCover': 29, 'seaLevelPressure': 1003, 'relativeHumidity': 69, 'totalPrecipitation': 0, 'conditionCode': 'partly-cloudy'}, {'forecastTimeUtc': '2023-07-03 07:00:00', 'airTemperature': 16.7, 'feelsLikeTemperature': 16.7, 'windSpeed': 9, 'windGust': 15, 'windDirection': 230, 'cloudCover': 100, 'seaLevelPressure': 1003, 'relativeHumidity': 64, 'totalPrecipitation': 0, 'conditionCode': 'cloudy'}, {'forecastTimeUtc': '2023-07-03 08:00:00', 'airTemperature': 17.8, 'feelsLikeTemperature': 17.8, 'windSpeed': 8, 'windGust': 15, 'windDirection': 234, 'cloudCover': 98, 'seaLevelPressure': 1004, 'relativeHumidity': 58, 'totalPrecipitation': 0, 'conditionCode': 'cloudy'}, {'forecastTimeUtc': '2023-07-03 09:00:00', 'airTemperature': 17.7, 'feelsLikeTemperature': 17.7, 'windSpeed': 8, 'windGust': 15, 'windDirection': 241, 'cloudCover': 100, 'seaLevelPressure': 1004, 'relativeHumidity': 56, 'totalPrecipitation': 0, 'conditionCode': 'cloudy'}, {'forecastTimeUtc': '2023-07-03 10:00:00', 'airTemperature': 18.3, 'feelsLikeTemperature': 18.3, 'windSpeed': 8, 'windGust': 15, 'windDirection': 236, 'cloudCover': 58, 'seaLevelPressure': 1004, 'relativeHumidity': 52, 'totalPrecipitation': 0, 'conditionCode': 'cloudy-with-sunny-intervals'}, {'forecastTimeUtc': '2023-07-03 11:00:00', 'airTemperature': 19.8, 'feelsLikeTemperature': 19.8, 'windSpeed': 7, 'windGust': 14, 'windDirection': 245, 'cloudCover': 89, 'seaLevelPressure': 1005, 'relativeHumidity': 43, 'totalPrecipitation': 0, 'conditionCode': 'cloudy'}, {'forecastTimeUtc': '2023-07-03 12:00:00', 'airTemperature': 20.9, 'feelsLikeTemperature': 20.9, 'windSpeed': 7, 'windGust': 13, 'windDirection': 245, 'cloudCover': 87, 'seaLevelPressure': 1005, 'relativeHumidity': 37, 'totalPrecipitation': 0, 'conditionCode': 'cloudy'}, {'forecastTimeUtc': '2023-07-03 13:00:00', 'airTemperature': 20.7, 'feelsLikeTemperature': 20.7, 'windSpeed': 7, 'windGust': 12, 'windDirection': 245, 'cloudCover': 92, 'seaLevelPressure': 1005, 'relativeHumidity': 37, 'totalPrecipitation': 0, 'conditionCode': 'cloudy'}, {'forecastTimeUtc': '2023-07-03 14:00:00', 'airTemperature': 20.4, 'feelsLikeTemperature': 20.4, 'windSpeed': 7, 'windGust': 12, 'windDirection': 244, 'cloudCover': 85, 'seaLevelPressure': 1006, 'relativeHumidity': 38, 'totalPrecipitation': 0, 'conditionCode': 'cloudy'}, {'forecastTimeUtc': '2023-07-03 15:00:00', 'airTemperature': 19.2, 'feelsLikeTemperature': 19.2, 'windSpeed': 7, 'windGust': 12, 'windDirection': 212, 'cloudCover': 66, 'seaLevelPressure': 1006, 'relativeHumidity': 50, 'totalPrecipitation': 0, 'conditionCode': 'cloudy-with-sunny-intervals'}, {'forecastTimeUtc': '2023-07-03 16:00:00', 'airTemperature': 20.2, 'feelsLikeTemperature': 20.2, 'windSpeed': 7, 'windGust': 12, 'windDirection': 248, 'cloudCover': 37, 'seaLevelPressure': 1007, 'relativeHumidity': 34, 'totalPrecipitation': 0, 'conditionCode': 'partly-cloudy'}, {'forecastTimeUtc': '2023-07-03 17:00:00', 'airTemperature': 19.7, 'feelsLikeTemperature': 19.7, 'windSpeed': 6, 'windGust': 12, 'windDirection': 244, 'cloudCover': 0, 'seaLevelPressure': 1007, 'relativeHumidity': 39, 'totalPrecipitation': 0, 'conditionCode': 'clear'}, {'forecastTimeUtc': '2023-07-03 18:00:00', 'airTemperature': 18.8, 'feelsLikeTemperature': 18.8, 'windSpeed': 4, 'windGust': 10, 'windDirection': 218, 'cloudCover': 0, 'seaLevelPressure': 1007, 'relativeHumidity': 50, 'totalPrecipitation': 0, 'conditionCode': 'clear'}, {'forecastTimeUtc': '2023-07-03 19:00:00', 'airTemperature': 17.3, 'feelsLikeTemperature': 17.3, 'windSpeed': 4, 'windGust': 7, 'windDirection': 217, 'cloudCover': 0, 'seaLevelPressure': 1007, 'relativeHumidity': 56, 'totalPrecipitation': 0, 'conditionCode': 'clear'}, {'forecastTimeUtc': '2023-07-03 20:00:00', 'airTemperature': 16.9, 'feelsLikeTemperature': 16.9, 'windSpeed': 5, 'windGust': 8, 'windDirection': 235, 'cloudCover': 0, 'seaLevelPressure': 1007, 'relativeHumidity': 53, 'totalPrecipitation': 0, 'conditionCode': 'clear'}, {'forecastTimeUtc': '2023-07-03 21:00:00', 'airTemperature': 15.9, 'feelsLikeTemperature': 15.9, 'windSpeed': 4, 'windGust': 8, 'windDirection': 219, 'cloudCover': 0, 'seaLevelPressure': 1008, 'relativeHumidity': 59, 'totalPrecipitation': 0, 'conditionCode': 'clear'}, {'forecastTimeUtc': '2023-07-03 22:00:00', 'airTemperature': 14.9, 'feelsLikeTemperature': 14.9, 'windSpeed': 3, 'windGust': 6, 'windDirection': 202, 'cloudCover': 0, 'seaLevelPressure': 1008, 'relativeHumidity': 67, 'totalPrecipitation': 0, 'conditionCode': 'clear'}, {'forecastTimeUtc': '2023-07-03 23:00:00', 'airTemperature': 14.3, 'feelsLikeTemperature': 14.3, 'windSpeed': 3, 'windGust': 6, 'windDirection': 210, 'cloudCover': 40, 'seaLevelPressure': 1008, 'relativeHumidity': 71, 'totalPrecipitation': 0, 'conditionCode': 'partly-cloudy'}, {'forecastTimeUtc': '2023-07-04 00:00:00', 'airTemperature': 14.4, 'feelsLikeTemperature': 14.4, 'windSpeed': 3, 'windGust': 6, 'windDirection': 218, 'cloudCover': 1, 'seaLevelPressure': 1008, 'relativeHumidity': 71, 'totalPrecipitation': 0, 'conditionCode': 'clear'}, {'forecastTimeUtc': '2023-07-04 01:00:00', 'airTemperature': 14.6, 'feelsLikeTemperature': 14.6, 'windSpeed': 4, 'windGust': 6, 'windDirection': 211, 'cloudCover': 100, 'seaLevelPressure': 1008, 'relativeHumidity': 72, 'totalPrecipitation': 0, 'conditionCode': 'cloudy'}, {'forecastTimeUtc': '2023-07-04 02:00:00', 'airTemperature': 14.6, 'feelsLikeTemperature': 14.6, 'windSpeed': 4, 'windGust': 6, 'windDirection': 203, 'cloudCover': 9, 'seaLevelPressure': 1009, 'relativeHumidity': 73, 'totalPrecipitation': 0, 'conditionCode': 'clear'}, {'forecastTimeUtc': '2023-07-04 03:00:00', 'airTemperature': 14.8, 'feelsLikeTemperature': 14.8, 'windSpeed': 3, 'windGust': 6, 'windDirection': 208, 'cloudCover': 0, 'seaLevelPressure': 1009, 'relativeHumidity': 74, 'totalPrecipitation': 0, 'conditionCode': 'clear'}, {'forecastTimeUtc': '2023-07-04 06:00:00', 'airTemperature': 17.8, 'feelsLikeTemperature': 17.8, 'windSpeed': 4, 'windGust': 9, 'windDirection': 220, 'cloudCover': 20, 'seaLevelPressure': 1010, 'relativeHumidity': 65, 'totalPrecipitation': 0, 'conditionCode': 'clear'}, {'forecastTimeUtc': '2023-07-04 09:00:00', 'airTemperature': 20.7, 'feelsLikeTemperature': 20.7, 'windSpeed': 6, 'windGust': 14, 'windDirection': 232, 'cloudCover': 44, 'seaLevelPressure': 1011, 'relativeHumidity': 51, 'totalPrecipitation': 0, 'conditionCode': 'partly-cloudy'}, {'forecastTimeUtc': '2023-07-04 12:00:00', 'airTemperature': 22.2, 'feelsLikeTemperature': 22.2, 'windSpeed': 7, 'windGust': 14, 'windDirection': 236, 'cloudCover': 22, 'seaLevelPressure': 1011, 'relativeHumidity': 35, 'totalPrecipitation': 0, 'conditionCode': 'clear'}, {'forecastTimeUtc': '2023-07-04 15:00:00', 'airTemperature': 22.2, 'feelsLikeTemperature': 22.2, 'windSpeed': 5, 'windGust': 12, 'windDirection': 239, 'cloudCover': 14, 'seaLevelPressure': 1011, 'relativeHumidity': 38, 'totalPrecipitation': 0, 'conditionCode': 'clear'}, {'forecastTimeUtc': '2023-07-04 18:00:00', 'airTemperature': 18.7, 'feelsLikeTemperature': 18.7, 'windSpeed': 2, 'windGust': 6, 'windDirection': 255, 'cloudCover': 46, 'seaLevelPressure': 1012, 'relativeHumidity': 66, 'totalPrecipitation': 0.2, 'conditionCode': 'light-rain'}, {'forecastTimeUtc': '2023-07-04 21:00:00', 'airTemperature': 15.4, 'feelsLikeTemperature': 15.4, 'windSpeed': 3, 'windGust': 6, 'windDirection': 231, 'cloudCover': 6, 'seaLevelPressure': 1014, 'relativeHumidity': 78, 'totalPrecipitation': 0, 'conditionCode': 'clear'}, {'forecastTimeUtc': '2023-07-05 00:00:00', 'airTemperature': 13, 'feelsLikeTemperature': 13, 'windSpeed': 3, 'windGust': 5, 'windDirection': 214, 'cloudCover': 0, 'seaLevelPressure': 1015, 'relativeHumidity': 86, 'totalPrecipitation': 0, 'conditionCode': 'clear'}, {'forecastTimeUtc': '2023-07-05 03:00:00', 'airTemperature': 12.5, 'feelsLikeTemperature': 12.5, 'windSpeed': 2, 'windGust': 4, 'windDirection': 195, 'cloudCover': 0, 'seaLevelPressure': 1016, 'relativeHumidity': 90, 'totalPrecipitation': 0, 'conditionCode': 'clear'}, {'forecastTimeUtc': '2023-07-05 06:00:00', 'airTemperature': 18.6, 'feelsLikeTemperature': 18.6, 'windSpeed': 1, 'windGust': 4, 'windDirection': 163, 'cloudCover': 12, 'seaLevelPressure': 1016, 'relativeHumidity': 61, 'totalPrecipitation': 0, 'conditionCode': 'clear'}, {'forecastTimeUtc': '2023-07-05 09:00:00', 'airTemperature': 23.3, 'feelsLikeTemperature': 22.6, 'windSpeed': 3, 'windGust': 7, 'windDirection': 139, 'cloudCover': 38, 'seaLevelPressure': 1015, 'relativeHumidity': 36, 'totalPrecipitation': 0, 'conditionCode': 'partly-cloudy'}, {'forecastTimeUtc': '2023-07-05 12:00:00', 'airTemperature': 25.3, 'feelsLikeTemperature': 24.7, 'windSpeed': 4, 'windGust': 9, 'windDirection': 177, 'cloudCover': 100, 'seaLevelPressure': 1013, 'relativeHumidity': 31, 'totalPrecipitation': 0, 'conditionCode': 'cloudy'}, {'forecastTimeUtc': '2023-07-05 15:00:00', 'airTemperature': 26, 'feelsLikeTemperature': 25.4, 'windSpeed': 4, 'windGust': 9, 'windDirection': 213, 'cloudCover': 55, 'seaLevelPressure': 1012, 'relativeHumidity': 30, 'totalPrecipitation': 0, 'conditionCode': 'cloudy-with-sunny-intervals'}, {'forecastTimeUtc': '2023-07-05 18:00:00', 'airTemperature': 22.5, 'feelsLikeTemperature': 22.5, 'windSpeed': 1, 'windGust': 2, 'windDirection': 150, 'cloudCover': 100, 'seaLevelPressure': 1012, 'relativeHumidity': 61, 'totalPrecipitation': 0, 'conditionCode': 'cloudy'}, {'forecastTimeUtc': '2023-07-05 21:00:00', 'airTemperature': 18.6, 'feelsLikeTemperature': 18.6, 'windSpeed': 3, 'windGust': 7, 'windDirection': 305, 'cloudCover': 100, 'seaLevelPressure': 1014, 'relativeHumidity': 75, 'totalPrecipitation': 0, 'conditionCode': 'cloudy'}, {'forecastTimeUtc': '2023-07-06 00:00:00', 'airTemperature': 16.3, 'feelsLikeTemperature': 16.3, 'windSpeed': 3, 'windGust': 6, 'windDirection': 314, 'cloudCover': 55, 'seaLevelPressure': 1015, 'relativeHumidity': 77, 'totalPrecipitation': 0, 'conditionCode': 'cloudy-with-sunny-intervals'}, {'forecastTimeUtc': '2023-07-06 03:00:00', 'airTemperature': 13.7, 'feelsLikeTemperature': 13.7, 'windSpeed': 2, 'windGust': 6, 'windDirection': 307, 'cloudCover': 21, 'seaLevelPressure': 1016, 'relativeHumidity': 86, 'totalPrecipitation': 0, 'conditionCode': 'clear'}, {'forecastTimeUtc': '2023-07-06 06:00:00', 'airTemperature': 16.7, 'feelsLikeTemperature': 16.7, 'windSpeed': 2, 'windGust': 5, 'windDirection': 336, 'cloudCover': 97, 'seaLevelPressure': 1017, 'relativeHumidity': 73, 'totalPrecipitation': 0, 'conditionCode': 'cloudy'}, {'forecastTimeUtc': '2023-07-06 09:00:00', 'airTemperature': 20.5, 'feelsLikeTemperature': 20.5, 'windSpeed': 2, 'windGust': 5, 'windDirection': 322, 'cloudCover': 100, 'seaLevelPressure': 1017, 'relativeHumidity': 45, 'totalPrecipitation': 0, 'conditionCode': 'cloudy'}, {'forecastTimeUtc': '2023-07-06 12:00:00', 'airTemperature': 22.7, 'feelsLikeTemperature': 22.7, 'windSpeed': 2, 'windGust': 6, 'windDirection': 309, 'cloudCover': 100, 'seaLevelPressure': 1017, 'relativeHumidity': 32, 'totalPrecipitation': 0, 'conditionCode': 'cloudy'}, {'forecastTimeUtc': '2023-07-06 15:00:00', 'airTemperature': 23.4, 'feelsLikeTemperature': 23.4, 'windSpeed': 3, 'windGust': 6, 'windDirection': 329, 'cloudCover': 45, 'seaLevelPressure': 1016, 'relativeHumidity': 24, 'totalPrecipitation': 0, 'conditionCode': 'partly-cloudy'}, {'forecastTimeUtc': '2023-07-06 18:00:00', 'airTemperature': 20.4, 'feelsLikeTemperature': 20.4, 'windSpeed': 3, 'windGust': 6, 'windDirection': 329, 'cloudCover': 11, 'seaLevelPressure': 1017, 'relativeHumidity': 46, 'totalPrecipitation': 0, 'conditionCode': 'clear'}, {'forecastTimeUtc': '2023-07-06 21:00:00', 'airTemperature': 16.4, 'feelsLikeTemperature': 16.4, 'windSpeed': 3, 'windGust': 6, 'windDirection': 333, 'cloudCover': 4, 'seaLevelPressure': 1018, 'relativeHumidity': 62, 'totalPrecipitation': 0, 'conditionCode': 'clear'}, {'forecastTimeUtc': '2023-07-07 00:00:00', 'airTemperature': 14.2, 'feelsLikeTemperature': 14.2, 'windSpeed': 2, 'windGust': 5, 'windDirection': 344, 'cloudCover': 0, 'seaLevelPressure': 1019, 'relativeHumidity': 79, 'totalPrecipitation': 0, 'conditionCode': 'clear'}, {'forecastTimeUtc': '2023-07-07 03:00:00', 'airTemperature': 13.4, 'feelsLikeTemperature': 13.4, 'windSpeed': 2, 'windGust': 4, 'windDirection': 4, 'cloudCover': 2, 'seaLevelPressure': 1020, 'relativeHumidity': 86, 'totalPrecipitation': 0, 'conditionCode': 'clear'}, {'forecastTimeUtc': '2023-07-07 06:00:00', 'airTemperature': 19.2, 'feelsLikeTemperature': 19.2, 'windSpeed': 2, 'windGust': 4, 'windDirection': 5, 'cloudCover': 2, 'seaLevelPressure': 1020, 'relativeHumidity': 63, 'totalPrecipitation': 0, 'conditionCode': 'clear'}, {'forecastTimeUtc': '2023-07-07 09:00:00', 'airTemperature': 22.8, 'feelsLikeTemperature': 22.8, 'windSpeed': 2, 'windGust': 5, 'windDirection': 321, 'cloudCover': 24, 'seaLevelPressure': 1021, 'relativeHumidity': 38, 'totalPrecipitation': 0, 'conditionCode': 'clear'}, {'forecastTimeUtc': '2023-07-07 12:00:00', 'airTemperature': 24.3, 'feelsLikeTemperature': 24.3, 'windSpeed': 3, 'windGust': 7, 'windDirection': 322, 'cloudCover': 11, 'seaLevelPressure': 1020, 'relativeHumidity': 29, 'totalPrecipitation': 0, 'conditionCode': 'clear'}, {'forecastTimeUtc': '2023-07-07 15:00:00', 'airTemperature': 24.6, 'feelsLikeTemperature': 24.6, 'windSpeed': 3, 'windGust': 7, 'windDirection': 334, 'cloudCover': 63, 'seaLevelPressure': 1020, 'relativeHumidity': 24, 'totalPrecipitation': 0, 'conditionCode': 'cloudy-with-sunny-intervals'}, {'forecastTimeUtc': '2023-07-07 18:00:00', 'airTemperature': 21.4, 'feelsLikeTemperature': 21.4, 'windSpeed': 3, 'windGust': 8, 'windDirection': 349, 'cloudCover': 58, 'seaLevelPressure': 1021, 'relativeHumidity': 45, 'totalPrecipitation': 0, 'conditionCode': 'cloudy-with-sunny-intervals'}, {'forecastTimeUtc': '2023-07-07 21:00:00', 'airTemperature': 17.2, 'feelsLikeTemperature': 17.2, 'windSpeed': 2, 'windGust': 7, 'windDirection': 20, 'cloudCover': 82, 'seaLevelPressure': 1022, 'relativeHumidity': 70, 'totalPrecipitation': 0, 'conditionCode': 'cloudy'}, {'forecastTimeUtc': '2023-07-08 00:00:00', 'airTemperature': 15.2, 'feelsLikeTemperature': 15.2, 'windSpeed': 2, 'windGust': 4, 'windDirection': 353, 'cloudCover': 85, 'seaLevelPressure': 1023, 'relativeHumidity': 79, 'totalPrecipitation': 0, 'conditionCode': 'cloudy'}, {'forecastTimeUtc': '2023-07-08 06:00:00', 'airTemperature': 18.6, 'feelsLikeTemperature': 18.6, 'windSpeed': 2, 'windGust': 6, 'windDirection': 360, 'cloudCover': 0, 'seaLevelPressure': 1025, 'relativeHumidity': 64, 'totalPrecipitation': 0, 'conditionCode': 'clear'}, {'forecastTimeUtc': '2023-07-08 12:00:00', 'airTemperature': 24, 'feelsLikeTemperature': 24, 'windSpeed': 4, 'windGust': 9, 'windDirection': 342, 'cloudCover': 0, 'seaLevelPressure': 1024, 'relativeHumidity': 23, 'totalPrecipitation': 0, 'conditionCode': 'clear'}, {'forecastTimeUtc': '2023-07-08 18:00:00', 'airTemperature': 20.3, 'feelsLikeTemperature': 20.3, 'windSpeed': 2, 'windGust': 9, 'windDirection': 47, 'cloudCover': 1, 'seaLevelPressure': 1024, 'relativeHumidity': 59, 'totalPrecipitation': 0, 'conditionCode': 'clear'}, {'forecastTimeUtc': '2023-07-09 00:00:00', 'airTemperature': 14.1, 'feelsLikeTemperature': 14.1, 'windSpeed': 2, 'windGust': 5, 'windDirection': 354, 'cloudCover': 0, 'seaLevelPressure': 1026, 'relativeHumidity': 77, 'totalPrecipitation': 0, 'conditionCode': 'clear'}, {'forecastTimeUtc': '2023-07-09 06:00:00', 'airTemperature': 18.7, 'feelsLikeTemperature': 18.7, 'windSpeed': 2, 'windGust': 5, 'windDirection': 356, 'cloudCover': 0, 'seaLevelPressure': 1026, 'relativeHumidity': 75, 'totalPrecipitation': 0, 'conditionCode': 'clear'}]}\n"
     ]
    }
   ],
   "source": [
    "url=\"https://api.meteo.lt/v1/places/panevezys/forecasts/long-term\"\n",
    "response = requests.get(url)\n",
    "data = response.json()\n",
    "print(data)"
   ]
  },
  {
   "cell_type": "code",
   "execution_count": 19,
   "id": "0ed7023b-9bfd-4e13-bc47-7f7ce1050739",
   "metadata": {},
   "outputs": [
    {
     "data": {
      "text/plain": [
       "dict"
      ]
     },
     "execution_count": 19,
     "metadata": {},
     "output_type": "execute_result"
    }
   ],
   "source": [
    "type(data)"
   ]
  },
  {
   "cell_type": "code",
   "execution_count": 21,
   "id": "9f4de632-8cb3-4a20-85d5-6ceba74a4363",
   "metadata": {},
   "outputs": [
    {
     "name": "stdout",
     "output_type": "stream",
     "text": [
      "['place', 'forecastType', 'forecastCreationTimeUtc', 'forecastTimestamps']\n"
     ]
    }
   ],
   "source": [
    "keys = list(data)\n",
    "print(keys)"
   ]
  },
  {
   "cell_type": "code",
   "execution_count": 23,
   "id": "348bda36-ab69-400e-afa3-8f0b953d1522",
   "metadata": {},
   "outputs": [
    {
     "ename": "NameError",
     "evalue": "name 'forecastType' is not defined",
     "output_type": "error",
     "traceback": [
      "\u001b[1;31m---------------------------------------------------------------------------\u001b[0m",
      "\u001b[1;31mNameError\u001b[0m                                 Traceback (most recent call last)",
      "Cell \u001b[1;32mIn [23], line 1\u001b[0m\n\u001b[1;32m----> 1\u001b[0m data[\u001b[43mforecastType\u001b[49m]\n",
      "\u001b[1;31mNameError\u001b[0m: name 'forecastType' is not defined"
     ]
    }
   ],
   "source": [
    "data[forecastType]"
   ]
  },
  {
   "cell_type": "code",
   "execution_count": null,
   "id": "f7b0050b-c702-45a7-b4bd-b73f1c920095",
   "metadata": {},
   "outputs": [],
   "source": []
  }
 ],
 "metadata": {
  "kernelspec": {
   "display_name": "Python 3 (ipykernel)",
   "language": "python",
   "name": "python3"
  },
  "language_info": {
   "codemirror_mode": {
    "name": "ipython",
    "version": 3
   },
   "file_extension": ".py",
   "mimetype": "text/x-python",
   "name": "python",
   "nbconvert_exporter": "python",
   "pygments_lexer": "ipython3",
   "version": "3.8.6"
  }
 },
 "nbformat": 4,
 "nbformat_minor": 5
}
